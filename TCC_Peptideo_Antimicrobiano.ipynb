{
  "cells": [
    {
      "cell_type": "markdown",
      "metadata": {
        "id": "view-in-github",
        "colab_type": "text"
      },
      "source": [
        "<a href=\"https://colab.research.google.com/github/Nathalia-git/Aplicacao-de-XAI-para-o-design-de-farmacos/blob/main/TCC_Peptideo_Antimicrobiano.ipynb\" target=\"_parent\"><img src=\"https://colab.research.google.com/assets/colab-badge.svg\" alt=\"Open In Colab\"/></a>"
      ]
    },
    {
      "cell_type": "markdown",
      "metadata": {
        "id": "Cmrn5ClJLfVf"
      },
      "source": [
        "# **Instalando bibliotecas necessárias**"
      ]
    },
    {
      "cell_type": "markdown",
      "metadata": {
        "id": "ipRbWDB2pv45"
      },
      "source": [
        "## **Instalando conda**"
      ]
    },
    {
      "cell_type": "code",
      "execution_count": null,
      "metadata": {
        "id": "oi_sxE9tpwbe"
      },
      "outputs": [],
      "source": [
        "!pip install -q condacolab"
      ]
    },
    {
      "cell_type": "code",
      "execution_count": null,
      "metadata": {
        "id": "cLdvMHcUp56k"
      },
      "outputs": [],
      "source": [
        "import condacolab\n",
        "condacolab.install()"
      ]
    },
    {
      "cell_type": "code",
      "execution_count": null,
      "metadata": {
        "id": "Sd2wxo03qB05"
      },
      "outputs": [],
      "source": [
        "!conda --version"
      ]
    },
    {
      "cell_type": "markdown",
      "metadata": {
        "id": "0CUCTPknqFOw"
      },
      "source": [
        "## **Baixando e instalando a biblioteca Pfeature**\n",
        "\n"
      ]
    },
    {
      "cell_type": "code",
      "execution_count": null,
      "metadata": {
        "id": "giot-vDwqF_H"
      },
      "outputs": [],
      "source": [
        "! wget https://github.com/raghavagps/Pfeature/raw/master/PyLib/Pfeature.zip"
      ]
    },
    {
      "cell_type": "code",
      "execution_count": null,
      "metadata": {
        "id": "EVbbvOGvqKby"
      },
      "outputs": [],
      "source": [
        "! unzip Pfeature.zip"
      ]
    },
    {
      "cell_type": "code",
      "execution_count": null,
      "metadata": {
        "id": "SYIHu9UjqNan"
      },
      "outputs": [],
      "source": [
        "cd /content/Pfeature"
      ]
    },
    {
      "cell_type": "code",
      "execution_count": null,
      "metadata": {
        "id": "1THw8R4FqQOG"
      },
      "outputs": [],
      "source": [
        "! python setup.py install"
      ]
    },
    {
      "cell_type": "markdown",
      "metadata": {
        "id": "bEPZdaaCrHWY"
      },
      "source": [
        "## **Instalando CD-HIT**"
      ]
    },
    {
      "cell_type": "code",
      "execution_count": null,
      "metadata": {
        "id": "3o3dPDDhqSXk"
      },
      "outputs": [],
      "source": [
        "! conda install -c bioconda cd-hit -y"
      ]
    },
    {
      "cell_type": "markdown",
      "metadata": {
        "id": "cvq15jwBrE1H"
      },
      "source": [
        "# **Carregando o conjunto de dados**\n"
      ]
    },
    {
      "cell_type": "code",
      "execution_count": null,
      "metadata": {
        "id": "vcDeMr_TrLUe"
      },
      "outputs": [],
      "source": [
        "! wget https://raw.githubusercontent.com/dataprofessor/AMP/main/train_po.fasta"
      ]
    },
    {
      "cell_type": "code",
      "execution_count": null,
      "metadata": {
        "id": "795F1fqnrTWm"
      },
      "outputs": [],
      "source": [
        "! wget https://raw.githubusercontent.com/dataprofessor/AMP/main/train_ne.fasta"
      ]
    },
    {
      "cell_type": "code",
      "execution_count": null,
      "metadata": {
        "id": "pagvKnZlrXOQ"
      },
      "outputs": [],
      "source": [
        "! cat train_ne.fasta"
      ]
    },
    {
      "cell_type": "markdown",
      "metadata": {
        "id": "uwBh8GXJraly"
      },
      "source": [
        "### **Removendo sequências redundantes usando CD-HIT**"
      ]
    },
    {
      "cell_type": "code",
      "execution_count": null,
      "metadata": {
        "id": "6xrsFxu7rbJp"
      },
      "outputs": [],
      "source": [
        "! cd-hit -i train_po.fasta -o train_po_cdhit.txt -c 0.99"
      ]
    },
    {
      "cell_type": "code",
      "execution_count": null,
      "metadata": {
        "id": "-f4kQ1R1reY-"
      },
      "outputs": [],
      "source": [
        "! cd-hit -i train_ne.fasta -o train_ne_cdhit.txt -c 0.99"
      ]
    },
    {
      "cell_type": "code",
      "execution_count": null,
      "metadata": {
        "id": "mF2aFeprrhGm"
      },
      "outputs": [],
      "source": [
        "! ls -l"
      ]
    },
    {
      "cell_type": "code",
      "execution_count": null,
      "metadata": {
        "id": "gXaHKN7WrlGZ"
      },
      "outputs": [],
      "source": [
        "#visualizando o numero de linhas no arquivo apos a retirada dos peptideos semelhantes\n",
        "! grep \">\" train_po_cdhit.txt | wc -l"
      ]
    },
    {
      "cell_type": "code",
      "execution_count": null,
      "metadata": {
        "id": "BUrlXpVvrl-c"
      },
      "outputs": [],
      "source": [
        "! grep \">\" train_po.fasta | wc -l"
      ]
    },
    {
      "cell_type": "code",
      "execution_count": null,
      "metadata": {
        "id": "I_WnuKn0royL"
      },
      "outputs": [],
      "source": [
        "! grep \">\" train_ne.fasta | wc -l"
      ]
    },
    {
      "cell_type": "code",
      "execution_count": null,
      "metadata": {
        "id": "eGGA1xmTrqsU"
      },
      "outputs": [],
      "source": [
        "#visualizando o numero de linhas no arquivo apos a retirada dos peptideos semelhantes\n",
        "! grep \">\" train_ne_cdhit.txt | wc -l"
      ]
    },
    {
      "cell_type": "markdown",
      "metadata": {
        "id": "aM9-H53ArxUj"
      },
      "source": [
        "# **Calculando recursos usando a biblioteca Pfeature**\n",
        "\n",
        "As classes das features fornecidas pelo Pfeature que estão sendo utilizadas estão resumidas na tabela abaixo.\n",
        "\n",
        "**Recursos Baseados em Composição**\n",
        "\n",
        "Classe de Recursos | Descrição | Função\n",
        "---|---|---\n",
        "AAC | Composição de Aminoácidos | aac_wp\n",
        "DPC | Composição Dipeptídeo | dpc_wp\n",
        "[Pfeature Manual](https://webs.iiitd.edu.in/raghava/pfeature/Pfeature_Manual.pdf)"
      ]
    },
    {
      "cell_type": "markdown",
      "metadata": {
        "id": "OUyh55dGr10s"
      },
      "source": [
        "### **Funções para calcular diferentes recursos**"
      ]
    },
    {
      "cell_type": "code",
      "execution_count": null,
      "metadata": {
        "id": "cExOJk3Pr2mj"
      },
      "outputs": [],
      "source": [
        "import pandas as pd"
      ]
    },
    {
      "cell_type": "code",
      "execution_count": null,
      "metadata": {
        "id": "PpmYZdRIr4qy"
      },
      "outputs": [],
      "source": [
        "#Composicao de Aminoacidos (AAC)\n",
        "\n",
        "from Pfeature.pfeature import aac_wp\n",
        "\n",
        "def aac(input):\n",
        "  z = input.rstrip('txt')\n",
        "  output = z + 'aac.csv'\n",
        "  aac = aac_wp(input, output)\n",
        "  aac_in_csv = pd.read_csv(output)\n",
        "  return aac_in_csv\n",
        "\n",
        "feature_aac_pos = aac('train_po_cdhit.txt')\n",
        "feature_aac_neg = aac('train_ne_cdhit.txt')\n",
        "\n",
        "feature_aac_pos\n",
        "feature_aac_neg"
      ]
    },
    {
      "cell_type": "code",
      "execution_count": null,
      "metadata": {
        "id": "IdkYmZwzGVWc"
      },
      "outputs": [],
      "source": [
        "#Composicao Dipeptideo (DPC)\n",
        "\n",
        "from Pfeature.pfeature import dpc_wp\n",
        "\n",
        "def dpc(input):\n",
        "  z = input.rstrip('txt')\n",
        "  output = z + 'dpc.csv'\n",
        "  dpc = dpc_wp(input, output,1)\n",
        "  dpc_in_csv = pd.read_csv(output)\n",
        "  return dpc_in_csv\n",
        "\n",
        "feature_dpc_pos = dpc('train_po_cdhit.txt')\n",
        "feature_dpc_neg = dpc('train_ne_cdhit.txt')\n",
        "\n",
        "feature_dpc_pos\n",
        "feature_dpc_neg"
      ]
    },
    {
      "cell_type": "markdown",
      "metadata": {
        "id": "BAFUEsW49_ht"
      },
      "source": [
        "### **Combinando diferentes recursos**"
      ]
    },
    {
      "cell_type": "code",
      "execution_count": null,
      "metadata": {
        "id": "wD3Ca6ILJ04p"
      },
      "outputs": [],
      "source": [
        "#positivo\n",
        "all_feature_pos = pd.concat([feature_aac_pos, feature_dpc_pos], axis=1)\n",
        "all_feature_pos"
      ]
    },
    {
      "cell_type": "code",
      "execution_count": null,
      "metadata": {
        "id": "Fzo3IYTIJ8qo"
      },
      "outputs": [],
      "source": [
        "#negativo\n",
        "all_feature_neg = pd.concat([feature_aac_neg, feature_dpc_neg], axis=1)\n",
        "all_feature_neg"
      ]
    },
    {
      "cell_type": "markdown",
      "metadata": {
        "id": "01mBzSZL_XF1"
      },
      "source": [
        "### **Calculando o recurso para a classe positiva e negativa, combinando as duas classes e mesclando com os rótulos das classes**"
      ]
    },
    {
      "cell_type": "code",
      "execution_count": null,
      "metadata": {
        "id": "Qbq0wLc3_Xfv"
      },
      "outputs": [],
      "source": [
        "pos = 'train_po_cdhit.txt'\n",
        "neg = 'train_ne_cdhit.txt'\n",
        "\n",
        "def feature_calc(po, ne, all_feature_pos, all_feature_neg):\n",
        "  # Calcula recurso\n",
        "  positive_feature = all_feature_pos\n",
        "  negative_feature = all_feature_neg\n",
        "  # Cria rotulos de classe\n",
        "  positive_class = pd.Series(['positive' for i in range(len(positive_feature))])\n",
        "  negative_class = pd.Series(['negative' for i in range(len(negative_feature))])\n",
        "  # Combina positivo e negativo\n",
        "  positive_negative_class = pd.concat([positive_class, negative_class], axis=0)\n",
        "  positive_negative_class.name = 'class'\n",
        "  positive_negative_feature = pd.concat([positive_feature, negative_feature], axis=0)\n",
        "  # Combina recurso e classe\n",
        "  df = pd.concat([positive_negative_feature, positive_negative_class], axis=1)\n",
        "  return df\n",
        "\n",
        "all_feature = feature_calc(pos, neg, all_feature_pos, all_feature_neg)"
      ]
    },
    {
      "cell_type": "code",
      "execution_count": null,
      "metadata": {
        "id": "bZyQMt1u_dBY"
      },
      "outputs": [],
      "source": [
        "all_feature"
      ]
    },
    {
      "cell_type": "code",
      "execution_count": null,
      "metadata": {
        "id": "mcML3deV_kqJ"
      },
      "outputs": [],
      "source": [
        "# Atribui as features em X e os rótulos das classes em y\n",
        "X = all_feature.drop('class', axis=1) #os valores sao passados para x sem a coluna de classe\n",
        "y = all_feature['class'].copy() #é copiado para y apenas a coluna de classe que define se positivo ou negativo"
      ]
    },
    {
      "cell_type": "code",
      "execution_count": null,
      "metadata": {
        "id": "zzQTtNtg_0P2"
      },
      "outputs": [],
      "source": [
        "# Encoding the Y class label\n",
        "y = y.map({\"positive\": 1, \"negative\": 0})  #criado um mapa de positivo e negativo para y porque ele atribui a coluna de classe"
      ]
    },
    {
      "cell_type": "code",
      "execution_count": null,
      "metadata": {
        "id": "0_0u6UhmHCPP"
      },
      "outputs": [],
      "source": [
        "y"
      ]
    },
    {
      "cell_type": "code",
      "execution_count": null,
      "metadata": {
        "id": "diMfbabJ_5Cm"
      },
      "outputs": [],
      "source": [
        "X.shape"
      ]
    },
    {
      "cell_type": "code",
      "execution_count": null,
      "metadata": {
        "id": "hQYzSe-0_8kK"
      },
      "outputs": [],
      "source": [
        "y.shape"
      ]
    },
    {
      "cell_type": "markdown",
      "metadata": {
        "id": "rKVbYsahOJpm"
      },
      "source": [
        "### **Removendo recursos com baixa variação no conjunto de dados**"
      ]
    },
    {
      "cell_type": "code",
      "execution_count": null,
      "metadata": {
        "id": "Cv5gQMsR_90D"
      },
      "outputs": [],
      "source": [
        "from sklearn.feature_selection import VarianceThreshold\n",
        "\n",
        "low_variation = VarianceThreshold(threshold=0.1)\n",
        "low_variation.fit_transform(X)\n",
        "X_new = X.loc[:, low_variation.get_support()]\n",
        "\n",
        "X_new"
      ]
    },
    {
      "cell_type": "markdown",
      "metadata": {
        "id": "BEKC0MzWcKL_"
      },
      "source": [
        "# **Dividindo o conjunto de dados em treino e teste**"
      ]
    },
    {
      "cell_type": "code",
      "execution_count": null,
      "metadata": {
        "id": "8LoZlv4fBdfs"
      },
      "outputs": [],
      "source": [
        "from sklearn.model_selection import train_test_split\n",
        "\n",
        "X_train, X_test, y_train, y_test = train_test_split(X_new, y, test_size=0.2, random_state =42, stratify=y)"
      ]
    },
    {
      "cell_type": "markdown",
      "metadata": {
        "id": "430b3r_mc5R2"
      },
      "source": [
        "### **Selecionando os melhores recursos para a classificação e determinando a importância de cada recurso por meio da validação cruzada**"
      ]
    },
    {
      "cell_type": "code",
      "execution_count": null,
      "metadata": {
        "id": "gqs5GXibbVWJ"
      },
      "outputs": [],
      "source": [
        "from sklearn.feature_selection import RFECV\n",
        "from sklearn.ensemble import RandomForestClassifier\n",
        "\n",
        "# A pontuação da \"acuracia\" é proporcional ao número de classificações corretas\n",
        "clf_rf = RandomForestClassifier()\n",
        "rfecv = RFECV(estimator=clf_rf, step=1, cv=5,scoring='accuracy')   #5-fold cross-validation\n",
        "rfecv = rfecv.fit(X_train, y_train)\n"
      ]
    },
    {
      "cell_type": "code",
      "execution_count": null,
      "metadata": {
        "id": "rvD5RcRJbbqq"
      },
      "outputs": [],
      "source": [
        "rfecv.n_features_ #numero otimo de recursos"
      ]
    },
    {
      "cell_type": "code",
      "execution_count": null,
      "metadata": {
        "id": "CODcdLu-bd8F"
      },
      "outputs": [],
      "source": [
        "X_train.columns[rfecv.support_] #melhores features"
      ]
    },
    {
      "cell_type": "code",
      "execution_count": null,
      "metadata": {
        "id": "rG60UqEkbfZD"
      },
      "outputs": [],
      "source": [
        "X_train_2 = X_train.loc[:, X_train.columns[rfecv.support_]] #criando um novo dataframe contendo apenas as melhores features"
      ]
    },
    {
      "cell_type": "code",
      "execution_count": null,
      "metadata": {
        "id": "5yC7eKnPbhSV"
      },
      "outputs": [],
      "source": [
        "X_train_2"
      ]
    },
    {
      "cell_type": "code",
      "execution_count": null,
      "metadata": {
        "id": "VnpriBehbimS"
      },
      "outputs": [],
      "source": [
        "#calculando a acuracia e a matriz de confusao usando o classificador RandomForestClassifier com as melhores features\n",
        "from sklearn.metrics import accuracy_score\n",
        "from sklearn.metrics import f1_score,confusion_matrix\n",
        "import seaborn as sns\n",
        "\n",
        "X_train_2 = X_train.loc[:, X_train.columns[rfecv.support_]] #cria novo dataframe X_train_2 contendo apenas as melhores features selecionadas no conjunto de treinamento\n",
        "X_test_2 = X_test.loc[:, X_test.columns[rfecv.support_]] #cria novo dataframe X_test_2 contendo apenas as melhores features selecionadas no conjunto de teste\n",
        "#random forest classifier with n_estimators=10 (default)\n",
        "clf_rf_2 = RandomForestClassifier()\n",
        "clr_rf_2 = clf_rf_2.fit(X_train_2,y_train)#Ajustando o modelo RFE e ajustando automaticamente o número de recursos selecionados.\n",
        "ac_2 = accuracy_score(y_test,clf_rf_2.predict(X_test_2)) #calcula acuracia.  A acuracia é medida comparando as previsões do modelo com os rótulos y_test verdadeiros.\n",
        "cm_2 = confusion_matrix(y_test,clf_rf_2.predict(X_test_2)) #calcula matriz de confusao. A matriz de confusão é uma tabela que mostra as classificações corretas e incorretas feitas pelo modelo.\n",
        "sns.heatmap(cm_2,annot=True,fmt=\"d\") #plota a matriz de confusao"
      ]
    },
    {
      "cell_type": "code",
      "execution_count": null,
      "metadata": {
        "id": "S37D8UG9brlY"
      },
      "outputs": [],
      "source": [
        "ac_2 #acuracia"
      ]
    },
    {
      "cell_type": "markdown",
      "metadata": {
        "id": "JVZYPglLIGCc"
      },
      "source": [
        "# **Comparando rapidamente mais de 30 algoritmos de Machine Learning**"
      ]
    },
    {
      "cell_type": "code",
      "execution_count": null,
      "metadata": {
        "id": "j5ZE--eSYjYq"
      },
      "outputs": [],
      "source": [
        "!pip install lazypredict"
      ]
    },
    {
      "cell_type": "code",
      "execution_count": null,
      "metadata": {
        "id": "ak1GjeONZJk9"
      },
      "outputs": [],
      "source": [
        "#treinando e avaliando vários modelos de classificação de forma rápida e automática.\n",
        "\n",
        "from lazypredict.Supervised import LazyClassifier\n",
        "from sklearn.model_selection import train_test_split\n",
        "from sklearn.metrics import matthews_corrcoef\n",
        "import lazypredict\n",
        "\n",
        "# Define e constrói o lazyclassifier\n",
        "clf = LazyClassifier(verbose=0,ignore_warnings=True, custom_metric=matthews_corrcoef)\n",
        "models_lazy_train,predictions_train = clf.fit(X_train_2, X_train_2, y_train, y_train)\n",
        "models_lazy_test,predictions_test = clf.fit(X_train_2, X_test_2, y_train, y_test)"
      ]
    },
    {
      "cell_type": "code",
      "execution_count": null,
      "metadata": {
        "id": "flVkGKXcpqQH"
      },
      "outputs": [],
      "source": [
        "#Imprime o desempenho do modelo para o conjunto de treinamento\n",
        "models_lazy_train"
      ]
    },
    {
      "cell_type": "code",
      "execution_count": null,
      "metadata": {
        "id": "jObDw2xhpq_P"
      },
      "outputs": [],
      "source": [
        "#Imprime o desempenho do modelo para o conjunto de teste\n",
        "models_lazy_test"
      ]
    },
    {
      "cell_type": "code",
      "execution_count": null,
      "metadata": {
        "id": "vdEjR0iZp34i"
      },
      "outputs": [],
      "source": [
        "#Plota Acuracia\n",
        "import matplotlib.pyplot as plt\n",
        "import seaborn as sns\n",
        "\n",
        "plt.figure(figsize=(5, 10))\n",
        "sns.set_theme(style=\"whitegrid\")\n",
        "ax = sns.barplot(y=models_lazy_train.index, x=\"Accuracy\", data=models_lazy_train)\n",
        "ax.set(xlim=(0, 1))"
      ]
    },
    {
      "cell_type": "code",
      "execution_count": null,
      "metadata": {
        "id": "NOHK9k0pr8mk"
      },
      "outputs": [],
      "source": [
        "# Plota MCC\n",
        "import matplotlib.pyplot as plt\n",
        "import seaborn as sns\n",
        "\n",
        "plt.figure(figsize=(5, 10))\n",
        "sns.set_theme(style=\"whitegrid\")\n",
        "ax = sns.barplot(y=models_lazy_train.index, x=\"matthews_corrcoef\", data=models_lazy_train)\n",
        "ax.set(xlim=(0, 1))"
      ]
    },
    {
      "cell_type": "markdown",
      "metadata": {
        "id": "CQh5jEVysKuH"
      },
      "source": [
        "# **Random Forest**"
      ]
    },
    {
      "cell_type": "code",
      "execution_count": null,
      "metadata": {
        "id": "LLOP7-VVsNNG"
      },
      "outputs": [],
      "source": [
        "#Construindo o modelo Random Forest\n",
        "\n",
        "from sklearn.ensemble import RandomForestClassifier\n",
        "\n",
        "random_forest = RandomForestClassifier(n_estimators=500)\n",
        "\n",
        "random_forest.fit(X_train_2, y_train)"
      ]
    },
    {
      "cell_type": "markdown",
      "metadata": {
        "id": "UIaAuOApsd7G"
      },
      "source": [
        "### **Aplicando o modelo para fazer previsões**"
      ]
    },
    {
      "cell_type": "code",
      "execution_count": null,
      "metadata": {
        "id": "4klxjvQDsesJ"
      },
      "outputs": [],
      "source": [
        "y_train_predict = random_forest.predict(X_train_2)\n",
        "y_test_predict = random_forest.predict(X_test_2)"
      ]
    },
    {
      "cell_type": "code",
      "execution_count": null,
      "metadata": {
        "id": "WL_PIRKb8CTl"
      },
      "outputs": [],
      "source": [
        "y_train_predict"
      ]
    },
    {
      "cell_type": "code",
      "execution_count": null,
      "metadata": {
        "id": "pnVndoNgtqTw"
      },
      "outputs": [],
      "source": [
        "X_train_2.shape\n",
        "#y_test"
      ]
    },
    {
      "cell_type": "code",
      "execution_count": null,
      "metadata": {
        "id": "98vzVWYyzWFa"
      },
      "outputs": [],
      "source": [
        "y_test_predict"
      ]
    },
    {
      "cell_type": "markdown",
      "metadata": {
        "id": "x9jHmSTxsjpp"
      },
      "source": [
        "### **Desempenho do modelo**"
      ]
    },
    {
      "cell_type": "code",
      "execution_count": null,
      "metadata": {
        "id": "B9J1f2mfspnv"
      },
      "outputs": [],
      "source": [
        "# Simplest and quickest way to obtain the model performance (Accuracy)\n",
        "random_forest.score(X_test_2,y_test)"
      ]
    },
    {
      "cell_type": "code",
      "execution_count": null,
      "metadata": {
        "id": "Ri0Aq0PVsqLp"
      },
      "outputs": [],
      "source": [
        "# Accuracy\n",
        "from sklearn.metrics import accuracy_score\n",
        "\n",
        "accuracy_score(y_test, y_test_predict)"
      ]
    },
    {
      "cell_type": "code",
      "execution_count": null,
      "metadata": {
        "id": "yidjth7Os1ZF"
      },
      "outputs": [],
      "source": [
        "# Matthew Correlation Coefficient\n",
        "from sklearn.metrics import matthews_corrcoef\n",
        "\n",
        "matthews_corrcoef(y_test, y_test_predict)"
      ]
    },
    {
      "cell_type": "code",
      "execution_count": null,
      "metadata": {
        "id": "xkRIZFaOs5Gt"
      },
      "outputs": [],
      "source": [
        "cm = confusion_matrix(y_test, y_test_predict)\n",
        "sns.heatmap(cm,annot=True,fmt=\"d\")"
      ]
    },
    {
      "cell_type": "code",
      "execution_count": null,
      "metadata": {
        "id": "cLHuSipYtGm3"
      },
      "outputs": [],
      "source": [
        "# Classification report\n",
        "from sklearn.metrics import classification_report\n",
        "\n",
        "model_report = classification_report(y_train, y_train_predict, target_names=['positive','negative'])\n",
        "\n",
        "f = open('model_report.txt','w')\n",
        "f.writelines(model_report)\n",
        "f.close()"
      ]
    },
    {
      "cell_type": "code",
      "execution_count": null,
      "metadata": {
        "id": "cVnJeAvVtLI5"
      },
      "outputs": [],
      "source": [
        "# ROC curve\n",
        "import matplotlib.pyplot as plt\n",
        "from sklearn.metrics import RocCurveDisplay\n",
        "\n",
        "##RocCurveDisplay.from_estimator(svc, X_test, y_test)\n",
        "RocCurveDisplay.from_estimator(clf_rf_2, X_test_2, y_test)\n",
        "\n",
        "##plot_roc_curve(random_forest, X_test, y_test)\n",
        "plt.show()"
      ]
    },
    {
      "cell_type": "code",
      "execution_count": null,
      "metadata": {
        "id": "xKHnQsJStTgA"
      },
      "outputs": [],
      "source": [
        "RocCurveDisplay.from_estimator(random_forest, X_train_2, y_train)\n",
        "plt.show()"
      ]
    },
    {
      "cell_type": "markdown",
      "metadata": {
        "id": "2CSUTlhntXOF"
      },
      "source": [
        "### **Importância do recurso**"
      ]
    },
    {
      "cell_type": "code",
      "execution_count": null,
      "metadata": {
        "id": "RjsBrjYhtXo8"
      },
      "outputs": [],
      "source": [
        "# Recupera a importancia da feature do modelo RF\n",
        "importance = pd.Series(random_forest.feature_importances_, name = 'Gini')\n",
        "\n",
        "# Recupera nomes das features\n",
        "feature_names = pd.Series(X_train_2.columns, name = 'Feature')"
      ]
    },
    {
      "cell_type": "code",
      "execution_count": null,
      "metadata": {
        "id": "6-nT9NRhtgAJ"
      },
      "outputs": [],
      "source": [
        "# Combina nomes das features e valores Gini em um dataframe\n",
        "dataframe = pd.concat([feature_names, importance], axis=1, names=['Feature', 'Gini'])\n",
        "dataframe"
      ]
    },
    {
      "cell_type": "code",
      "execution_count": null,
      "metadata": {
        "id": "n3y86sTAtmCK"
      },
      "outputs": [],
      "source": [
        "# Grafico de importancia da feature\n",
        "import matplotlib.pyplot as plt\n",
        "import seaborn as sns\n",
        "\n",
        "dataframe_sorted = dataframe.sort_values('Gini', ascending=False)[:20] # Sort by Gini in descending order; Showing only the top 20 results\n",
        "\n",
        "plt.figure(figsize=(5, 10))\n",
        "sns.set_theme(style=\"whitegrid\")\n",
        "ax = sns.barplot(x = 'Gini', y = 'Feature', data = dataframe_sorted)\n",
        "plt.xlabel(\"Feature Importance\")"
      ]
    },
    {
      "cell_type": "markdown",
      "metadata": {
        "id": "UuHlqhqruxdZ"
      },
      "source": [
        "### **Grafico de importância do recurso com RF**\n",
        "\n",
        "\n"
      ]
    },
    {
      "cell_type": "code",
      "execution_count": null,
      "metadata": {
        "id": "OgY7uDb0uyKD"
      },
      "outputs": [],
      "source": [
        "#o pipeline padroniza os recursos usando o StandardScaler e em seguida treina um modelo de Random Forest Classifier usando os dados de treinamento fornecidos\n",
        "from sklearn.pipeline import Pipeline\n",
        "from sklearn.preprocessing import StandardScaler,LabelEncoder\n",
        "\n",
        "random_forest_pipeline = Pipeline(steps = [('scale',StandardScaler()),('RF',RandomForestClassifier(random_state=42))])\n",
        "random_forest_pipeline.fit(X_train_2,y_train)"
      ]
    },
    {
      "cell_type": "code",
      "execution_count": null,
      "metadata": {
        "id": "axpZnh70u2Qd"
      },
      "outputs": [],
      "source": [
        "#calculando e visualizando a importância das features (variáveis independentes) no modelo de Random Forest.\n",
        "import matplotlib\n",
        "\n",
        "colors = [\"lightgray\",\"lightgray\",\"#0f4c81\"]\n",
        "colormap = matplotlib.colors.LinearSegmentedColormap.from_list(\"\", colors)\n",
        "\n",
        "def rf_feat_importance(m, X):\n",
        "    return pd.DataFrame({'Feature':X_train_2.columns.tolist(), 'Importance':m.feature_importances_}).sort_values('Importance', ascending=False)\n",
        "\n",
        "\n",
        "fi = rf_feat_importance(random_forest_pipeline['RF'], X_train_2)\n",
        "fi[:20].style.background_gradient(cmap=colormap)"
      ]
    },
    {
      "cell_type": "markdown",
      "metadata": {
        "id": "u9dNzQAuRPZi"
      },
      "source": [
        "#**XAI**"
      ]
    },
    {
      "cell_type": "markdown",
      "metadata": {
        "id": "30o8gdJmvrEl"
      },
      "source": [
        "## **Aplicando SHAP para os dados de treinamento**"
      ]
    },
    {
      "cell_type": "code",
      "execution_count": null,
      "metadata": {
        "id": "2ClIWFURv1Hs"
      },
      "outputs": [],
      "source": [
        "!conda install --upgrade numba numpy"
      ]
    },
    {
      "cell_type": "code",
      "execution_count": null,
      "metadata": {
        "id": "TuuHXzKqv4eh"
      },
      "outputs": [],
      "source": [
        "!conda install -c conda-forge shap"
      ]
    },
    {
      "cell_type": "code",
      "execution_count": null,
      "metadata": {
        "id": "GkClH5C9wBp1"
      },
      "outputs": [],
      "source": [
        "import shap"
      ]
    },
    {
      "cell_type": "code",
      "execution_count": null,
      "metadata": {
        "id": "0nqypBuXwHVB"
      },
      "outputs": [],
      "source": [
        "explainer = shap.TreeExplainer(random_forest)"
      ]
    },
    {
      "cell_type": "code",
      "execution_count": null,
      "metadata": {
        "id": "4_KWM9OAwMrE"
      },
      "outputs": [],
      "source": [
        "shap_values = explainer.shap_values(X_train_2)\n",
        "X_train_2"
      ]
    },
    {
      "cell_type": "code",
      "execution_count": null,
      "metadata": {
        "id": "WSuV8Onuw0kr"
      },
      "outputs": [],
      "source": [
        "shap.summary_plot(shap_values[1], X_train_2)"
      ]
    },
    {
      "cell_type": "code",
      "execution_count": null,
      "metadata": {
        "id": "I_LIBMFSw639"
      },
      "outputs": [],
      "source": [
        "shap.summary_plot(shap_values[1], X_train_2, plot_type=\"bar\")"
      ]
    },
    {
      "cell_type": "code",
      "execution_count": null,
      "metadata": {
        "id": "wEcYoU6Bw-0-"
      },
      "outputs": [],
      "source": [
        "shap.summary_plot(shap_values[1], X_train_2, plot_type=\"violin\")"
      ]
    },
    {
      "cell_type": "markdown",
      "metadata": {
        "id": "BI6ZwZYIxcvA"
      },
      "source": [
        "## **Utilizando os peptídeos desenvolvidos por pesquisadores da UCB para validação**\n",
        "\n"
      ]
    },
    {
      "cell_type": "code",
      "execution_count": null,
      "metadata": {
        "id": "1c-hCurdadLP"
      },
      "outputs": [],
      "source": [
        "validation_feat_aac = aac('/content/val_pos_teste.txt')\n",
        "validation_feat_dpc = dpc('/content/val_pos_teste.txt')"
      ]
    },
    {
      "cell_type": "code",
      "execution_count": null,
      "metadata": {
        "id": "UAOfwNalajkn"
      },
      "outputs": [],
      "source": [
        "all_test_feat = pd.concat([validation_feat_aac, validation_feat_dpc], axis=1)\n",
        "all_test_feat"
      ]
    },
    {
      "cell_type": "code",
      "execution_count": null,
      "metadata": {
        "id": "42aD5XnWbfib"
      },
      "outputs": [],
      "source": [
        "X24 = all_test_feat.loc[:, X_train.columns[rfecv.support_]]"
      ]
    },
    {
      "cell_type": "code",
      "execution_count": null,
      "metadata": {
        "id": "s_ZwuVT6v5ji"
      },
      "outputs": [],
      "source": [
        "X24"
      ]
    },
    {
      "cell_type": "code",
      "execution_count": null,
      "metadata": {
        "id": "4Jp9_PYLhPsv"
      },
      "outputs": [],
      "source": [
        "validacao = random_forest.predict(X24)"
      ]
    },
    {
      "cell_type": "code",
      "execution_count": null,
      "metadata": {
        "id": "TthgWYAAjY8o"
      },
      "outputs": [],
      "source": [
        "validacao"
      ]
    },
    {
      "cell_type": "markdown",
      "metadata": {
        "id": "SIZNazjGnXJk"
      },
      "source": [
        "## **Aplicando SHAP para os dados de validação**"
      ]
    },
    {
      "cell_type": "code",
      "execution_count": null,
      "metadata": {
        "id": "HUIE0TeynVPp"
      },
      "outputs": [],
      "source": [
        "!pip install shap\n",
        "import shap"
      ]
    },
    {
      "cell_type": "code",
      "execution_count": null,
      "metadata": {
        "id": "FGAhiis4ncy6"
      },
      "outputs": [],
      "source": [
        "explainer = shap.TreeExplainer(random_forest)"
      ]
    },
    {
      "cell_type": "code",
      "execution_count": null,
      "metadata": {
        "id": "6ShjWbb3niBP"
      },
      "outputs": [],
      "source": [
        "shap_values = explainer.shap_values(X24)"
      ]
    },
    {
      "cell_type": "code",
      "execution_count": null,
      "metadata": {
        "id": "10r9xS9_tlUE"
      },
      "outputs": [],
      "source": [
        "shap.summary_plot(shap_values[1], X24, plot_type=\"violin\")"
      ]
    },
    {
      "cell_type": "code",
      "execution_count": null,
      "metadata": {
        "id": "nvXtOgeanlha"
      },
      "outputs": [],
      "source": [
        "# plotando para a classe positiva\n",
        "shap.summary_plot(shap_values[1], X24)"
      ]
    },
    {
      "cell_type": "code",
      "execution_count": null,
      "metadata": {
        "id": "JvQg7yp7nudJ"
      },
      "outputs": [],
      "source": [
        "shap.summary_plot(shap_values[1], X24, plot_type=\"bar\")"
      ]
    },
    {
      "cell_type": "code",
      "execution_count": null,
      "metadata": {
        "id": "aqWOwIZUn_7d"
      },
      "outputs": [],
      "source": [
        "shap.dependence_plot('AAC_K', shap_values[1], X24, interaction_index=\"AAC_D\")"
      ]
    },
    {
      "cell_type": "code",
      "execution_count": null,
      "metadata": {
        "id": "9HdkGgFEoALW"
      },
      "outputs": [],
      "source": [
        "shap.dependence_plot('AAC_K', shap_values[1], X24, interaction_index=None)"
      ]
    },
    {
      "cell_type": "code",
      "execution_count": null,
      "metadata": {
        "id": "N-WiCMNDoEbI"
      },
      "outputs": [],
      "source": [
        "row_to_show = 0\n",
        "\n",
        "data_for_prediction = X24.iloc[row_to_show]\n",
        "data_for_prediction_array = data_for_prediction.values.reshape(1, -1)\n",
        "\n",
        "random_forest.predict_proba(data_for_prediction_array)"
      ]
    },
    {
      "cell_type": "code",
      "execution_count": null,
      "metadata": {
        "id": "SHHJyyHVoG8c"
      },
      "outputs": [],
      "source": [
        "shap_values2 = explainer.shap_values(data_for_prediction)"
      ]
    },
    {
      "cell_type": "code",
      "execution_count": null,
      "metadata": {
        "id": "R0dn2Bi1oIJf"
      },
      "outputs": [],
      "source": [
        "shap.initjs()\n",
        "shap.force_plot(explainer.expected_value[1], shap_values2[1], data_for_prediction)"
      ]
    },
    {
      "cell_type": "code",
      "execution_count": null,
      "metadata": {
        "id": "zd3l1SLWoLAH"
      },
      "outputs": [],
      "source": [
        "shap.initjs()\n",
        "shap_values = explainer.shap_values(X24.iloc[:50])\n",
        "shap.force_plot(explainer.expected_value[1], shap_values[1], X24.iloc[:50])"
      ]
    },
    {
      "cell_type": "markdown",
      "metadata": {
        "id": "PtUZ_LqQ93fz"
      },
      "source": [
        "## **Aplicando LIME para os dados de validação**"
      ]
    },
    {
      "cell_type": "code",
      "execution_count": null,
      "metadata": {
        "id": "89TpTQuwN1nX"
      },
      "outputs": [],
      "source": [
        "! pip install lime"
      ]
    },
    {
      "cell_type": "code",
      "execution_count": null,
      "metadata": {
        "id": "ah9t8dBO95sN"
      },
      "outputs": [],
      "source": [
        "import lime\n",
        "import lime.lime_tabular\n",
        "import random"
      ]
    },
    {
      "cell_type": "code",
      "execution_count": null,
      "metadata": {
        "id": "t2gLLJnn9-dG"
      },
      "outputs": [],
      "source": [
        "#criando explainer\n",
        "predict_fn_rf = lambda x: random_forest.predict_proba(x).astype(float)\n",
        "x = X24.values\n",
        "explainer = lime.lime_tabular.LimeTabularExplainer(x,feature_names = X24.columns,class_names=['N_AMP','AMP'],kernel_width=5)"
      ]
    },
    {
      "cell_type": "code",
      "execution_count": null,
      "metadata": {
        "id": "FAxcnCmk-n9y"
      },
      "outputs": [],
      "source": [
        "random_forest.predict(X24)"
      ]
    },
    {
      "cell_type": "code",
      "execution_count": null,
      "metadata": {
        "id": "TbsV2hzm-smV"
      },
      "outputs": [],
      "source": [
        "random_forest.predict_proba(x).astype(float)"
      ]
    },
    {
      "cell_type": "code",
      "execution_count": null,
      "metadata": {
        "id": "85OXRuUUoraA"
      },
      "outputs": [],
      "source": [
        "row_to_show =0"
      ]
    },
    {
      "cell_type": "code",
      "execution_count": null,
      "metadata": {
        "id": "0-71P8An-xd9"
      },
      "outputs": [],
      "source": [
        "choosen_instance = X24.loc[[row_to_show]].values[0]\n",
        "\n",
        "exp = explainer.explain_instance(choosen_instance, predict_fn_rf,num_features=12)\n",
        "exp.show_in_notebook(show_all=False)"
      ]
    },
    {
      "cell_type": "code",
      "execution_count": null,
      "metadata": {
        "id": "CAMnVk6U0QSI"
      },
      "outputs": [],
      "source": [
        "exp.as_list()"
      ]
    },
    {
      "cell_type": "code",
      "execution_count": null,
      "metadata": {
        "id": "pf_uy400-1VE"
      },
      "outputs": [],
      "source": [
        "with plt.style.context(\"ggplot\"):\n",
        "    exp.as_pyplot_figure()"
      ]
    }
  ],
  "metadata": {
    "colab": {
      "provenance": [],
      "toc_visible": true,
      "authorship_tag": "ABX9TyNr1euWb1W9Cf5rTT5f62Tc",
      "include_colab_link": true
    },
    "kernelspec": {
      "display_name": "Python 3",
      "name": "python3"
    },
    "language_info": {
      "name": "python"
    }
  },
  "nbformat": 4,
  "nbformat_minor": 0
}